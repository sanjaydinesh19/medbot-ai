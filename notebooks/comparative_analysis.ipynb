{
 "cells": [
  {
   "cell_type": "markdown",
   "id": "c5ed8940",
   "metadata": {},
   "source": [
    "# 1. Setup and Imports"
   ]
  },
  {
   "cell_type": "code",
   "execution_count": 4,
   "id": "6376d3c2",
   "metadata": {},
   "outputs": [],
   "source": [
    "import sys, os\n",
    "sys.path.append(os.path.abspath(os.path.join(os.getcwd(), '..')))\n"
   ]
  },
  {
   "cell_type": "code",
   "execution_count": 5,
   "id": "261e490e",
   "metadata": {},
   "outputs": [],
   "source": [
    "import torch\n",
    "import torch.nn as nn\n",
    "from torchvision import models, transforms\n",
    "from torch.utils.data import DataLoader\n",
    "import pandas as pd\n",
    "from sklearn.metrics import accuracy_score, f1_score, roc_auc_score\n",
    "import matplotlib.pyplot as plt\n",
    "import seaborn as sns\n",
    "import time\n",
    "import os\n",
    "from model.dataset import CXRDataset\n"
   ]
  },
  {
   "cell_type": "markdown",
   "id": "75606adc",
   "metadata": {},
   "source": [
    "# 2. Configuration"
   ]
  },
  {
   "cell_type": "code",
   "execution_count": 22,
   "id": "65e1bd35",
   "metadata": {},
   "outputs": [
    {
     "name": "stdout",
     "output_type": "stream",
     "text": [
      "cuda\n"
     ]
    }
   ],
   "source": [
    "DATA_DIR = \"../data/rsna/images\"\n",
    "LABELS_CSV = \"../data/rsna/labels.csv\"\n",
    "BATCH_SIZE = 8\n",
    "DEVICE = torch.device(\"cuda\" if torch.cuda.is_available() else \"cpu\")\n",
    "\n",
    "transform = transforms.Compose([\n",
    "    transforms.Resize((224, 224)),\n",
    "    transforms.ToTensor(),\n",
    "    transforms.Normalize(mean=[0.485, 0.456, 0.406],\n",
    "                         std=[0.229, 0.224, 0.225])\n",
    "])\n",
    "print(DEVICE)\n"
   ]
  },
  {
   "cell_type": "markdown",
   "id": "55813614",
   "metadata": {},
   "source": [
    "# 3. Prepare Dataset and Loaders"
   ]
  },
  {
   "cell_type": "code",
   "execution_count": 23,
   "id": "8a07d94b",
   "metadata": {},
   "outputs": [
    {
     "name": "stdout",
     "output_type": "stream",
     "text": [
      "Subset size: 1000\n"
     ]
    }
   ],
   "source": [
    "from sklearn.model_selection import train_test_split\n",
    "\n",
    "df = pd.read_csv(LABELS_CSV)\n",
    "df = pd.concat([\n",
    "    df[df['label'] == 0].sample(500, random_state=42),\n",
    "    df[df['label'] == 1].sample(500, random_state=42)\n",
    "]).reset_index(drop=True)\n",
    "print(\"Subset size:\", len(df))\n",
    "train_df, val_df = train_test_split(df, test_size=0.2, stratify=df['label'], random_state=42)\n",
    "\n",
    "train_ds = CXRDataset(train_df, DATA_DIR, transform)\n",
    "val_ds = CXRDataset(val_df, DATA_DIR, transform)\n",
    "\n",
    "train_dl = DataLoader(train_ds, batch_size=BATCH_SIZE, shuffle=True,num_workers=0)\n",
    "val_dl = DataLoader(val_ds, batch_size=BATCH_SIZE,shuffle=False,num_workers=0)\n"
   ]
  },
  {
   "cell_type": "markdown",
   "id": "3075c684",
   "metadata": {},
   "source": [
    "# 4. Define Model Factory\n",
    "\n",
    "We’ll compare 3 architectures:\n",
    "\n",
    "- DenseNet121 (Current)\n",
    "\n",
    "- ResNet50\n",
    "\n",
    "- EfficientNet-B0"
   ]
  },
  {
   "cell_type": "code",
   "execution_count": 24,
   "id": "1602918b",
   "metadata": {},
   "outputs": [],
   "source": [
    "def create_model(name):\n",
    "    if name == \"DenseNet121\":\n",
    "        model = models.densenet121(pretrained=True)\n",
    "        in_features = model.classifier.in_features\n",
    "        model.classifier = nn.Linear(in_features, 1)\n",
    "    elif name == \"ResNet50\":\n",
    "        model = models.resnet50(pretrained=True)\n",
    "        in_features = model.fc.in_features\n",
    "        model.fc = nn.Linear(in_features, 1)\n",
    "    elif name == \"EfficientNetB0\":\n",
    "        model = models.efficientnet_b0(pretrained=True)\n",
    "        in_features = model.classifier[1].in_features\n",
    "        model.classifier[1] = nn.Linear(in_features, 1) #type:ignore\n",
    "    else:\n",
    "        raise ValueError(\"Model not supported\")\n",
    "    return model.to(DEVICE)\n"
   ]
  },
  {
   "cell_type": "markdown",
   "id": "f67417ed",
   "metadata": {},
   "source": [
    "# 5. Training & Evaluation Helper Functions"
   ]
  },
  {
   "cell_type": "code",
   "execution_count": 27,
   "id": "43967925",
   "metadata": {},
   "outputs": [],
   "source": [
    "from tqdm import tqdm\n",
    "\n",
    "def train_one_epoch(model, loader, optimizer, criterion):\n",
    "    model.train()\n",
    "    total_loss = 0\n",
    "    for imgs, labels in tqdm(loader, desc=\"Training\", leave=False):\n",
    "        imgs, labels = imgs.to(DEVICE), labels.float().unsqueeze(1).to(DEVICE)\n",
    "        optimizer.zero_grad()\n",
    "        out = model(imgs)\n",
    "        loss = criterion(out, labels)\n",
    "        loss.backward()\n",
    "        optimizer.step()\n",
    "        total_loss += loss.item()\n",
    "    return total_loss / len(loader)\n",
    "\n",
    "\n",
    "@torch.no_grad()\n",
    "def evaluate(model, loader, criterion):\n",
    "    model.eval()\n",
    "    y_true, y_pred = [], []\n",
    "    total_loss = 0\n",
    "    for imgs, labels in loader:\n",
    "        imgs, labels = imgs.to(DEVICE), labels.float().unsqueeze(1).to(DEVICE)\n",
    "        out = model(imgs)\n",
    "        loss = criterion(out, labels)\n",
    "        total_loss += loss.item()\n",
    "        probs = torch.sigmoid(out).cpu().numpy().flatten()\n",
    "        y_true.extend(labels.cpu().numpy())\n",
    "        y_pred.extend(probs)\n",
    "    y_pred_label = [1 if p >= 0.5 else 0 for p in y_pred]\n",
    "    return {\n",
    "        \"val_loss\": total_loss / len(loader),\n",
    "        \"acc\": accuracy_score(y_true, y_pred_label),\n",
    "        \"f1\": f1_score(y_true, y_pred_label),\n",
    "        \"auc\": roc_auc_score(y_true, y_pred)\n",
    "    }\n"
   ]
  },
  {
   "cell_type": "markdown",
   "id": "0bb83a80",
   "metadata": {},
   "source": [
    "# 6. Train & Compare Models"
   ]
  },
  {
   "cell_type": "code",
   "execution_count": 28,
   "id": "312871aa",
   "metadata": {},
   "outputs": [
    {
     "name": "stdout",
     "output_type": "stream",
     "text": [
      "\n",
      "🔹 Training DenseNet121\n"
     ]
    },
    {
     "name": "stderr",
     "output_type": "stream",
     "text": [
      "                                                           \r"
     ]
    },
    {
     "name": "stdout",
     "output_type": "stream",
     "text": [
      "Epoch 1: Train loss = 0.5513\n"
     ]
    },
    {
     "name": "stderr",
     "output_type": "stream",
     "text": [
      "                                                           \r"
     ]
    },
    {
     "name": "stdout",
     "output_type": "stream",
     "text": [
      "Epoch 2: Train loss = 0.4059\n",
      "\n",
      "🔹 Training ResNet50\n"
     ]
    },
    {
     "name": "stderr",
     "output_type": "stream",
     "text": [
      "Downloading: \"https://download.pytorch.org/models/resnet50-0676ba61.pth\" to C:\\Users\\HP/.cache\\torch\\hub\\checkpoints\\resnet50-0676ba61.pth\n",
      "100%|██████████| 97.8M/97.8M [00:02<00:00, 49.1MB/s]\n",
      "                                                           \r"
     ]
    },
    {
     "name": "stdout",
     "output_type": "stream",
     "text": [
      "Epoch 1: Train loss = 0.5861\n"
     ]
    },
    {
     "name": "stderr",
     "output_type": "stream",
     "text": [
      "                                                           \r"
     ]
    },
    {
     "name": "stdout",
     "output_type": "stream",
     "text": [
      "Epoch 2: Train loss = 0.3952\n"
     ]
    },
    {
     "name": "stderr",
     "output_type": "stream",
     "text": [
      "Downloading: \"https://download.pytorch.org/models/efficientnet_b0_rwightman-7f5810bc.pth\" to C:\\Users\\HP/.cache\\torch\\hub\\checkpoints\\efficientnet_b0_rwightman-7f5810bc.pth\n"
     ]
    },
    {
     "name": "stdout",
     "output_type": "stream",
     "text": [
      "\n",
      "🔹 Training EfficientNetB0\n"
     ]
    },
    {
     "name": "stderr",
     "output_type": "stream",
     "text": [
      "100%|██████████| 20.5M/20.5M [00:00<00:00, 34.5MB/s]\n",
      "                                                           \r"
     ]
    },
    {
     "name": "stdout",
     "output_type": "stream",
     "text": [
      "Epoch 1: Train loss = 0.5824\n"
     ]
    },
    {
     "name": "stderr",
     "output_type": "stream",
     "text": [
      "                                                           \r"
     ]
    },
    {
     "name": "stdout",
     "output_type": "stream",
     "text": [
      "Epoch 2: Train loss = 0.4325\n"
     ]
    }
   ],
   "source": [
    "import warnings\n",
    "warnings.filterwarnings(\"ignore\")\n",
    "results = []\n",
    "models_to_test = [\"DenseNet121\", \"ResNet50\", \"EfficientNetB0\"]\n",
    "\n",
    "for name in models_to_test:\n",
    "    print(f\"\\n🔹 Training {name}\")\n",
    "    model = create_model(name)\n",
    "    criterion = nn.BCEWithLogitsLoss()\n",
    "    optimizer = torch.optim.Adam(model.parameters(), lr=1e-4)\n",
    "\n",
    "    start = time.time()\n",
    "    for epoch in range(2):  \n",
    "        train_loss = train_one_epoch(model, train_dl, optimizer, criterion)\n",
    "        print(f\"Epoch {epoch+1}: Train loss = {train_loss:.4f}\")\n",
    "    duration = time.time() - start\n",
    "\n",
    "    metrics = evaluate(model, val_dl, criterion)\n",
    "    metrics[\"model\"] = name\n",
    "    metrics[\"train_time_sec\"] = round(duration, 2)\n",
    "    results.append(metrics)\n"
   ]
  },
  {
   "cell_type": "markdown",
   "id": "4e2a43e0",
   "metadata": {},
   "source": [
    "# 7. Compare Results"
   ]
  },
  {
   "cell_type": "code",
   "execution_count": 29,
   "id": "8c68b971",
   "metadata": {},
   "outputs": [
    {
     "data": {
      "text/html": [
       "<div>\n",
       "<style scoped>\n",
       "    .dataframe tbody tr th:only-of-type {\n",
       "        vertical-align: middle;\n",
       "    }\n",
       "\n",
       "    .dataframe tbody tr th {\n",
       "        vertical-align: top;\n",
       "    }\n",
       "\n",
       "    .dataframe thead th {\n",
       "        text-align: right;\n",
       "    }\n",
       "</style>\n",
       "<table border=\"1\" class=\"dataframe\">\n",
       "  <thead>\n",
       "    <tr style=\"text-align: right;\">\n",
       "      <th></th>\n",
       "      <th>model</th>\n",
       "      <th>acc</th>\n",
       "      <th>f1</th>\n",
       "      <th>auc</th>\n",
       "      <th>val_loss</th>\n",
       "      <th>train_time_sec</th>\n",
       "    </tr>\n",
       "  </thead>\n",
       "  <tbody>\n",
       "    <tr>\n",
       "      <th>0</th>\n",
       "      <td>DenseNet121</td>\n",
       "      <td>0.770</td>\n",
       "      <td>0.778846</td>\n",
       "      <td>0.8315</td>\n",
       "      <td>0.533625</td>\n",
       "      <td>131.88</td>\n",
       "    </tr>\n",
       "    <tr>\n",
       "      <th>1</th>\n",
       "      <td>ResNet50</td>\n",
       "      <td>0.755</td>\n",
       "      <td>0.726257</td>\n",
       "      <td>0.8419</td>\n",
       "      <td>0.638779</td>\n",
       "      <td>76.92</td>\n",
       "    </tr>\n",
       "    <tr>\n",
       "      <th>2</th>\n",
       "      <td>EfficientNetB0</td>\n",
       "      <td>0.750</td>\n",
       "      <td>0.739583</td>\n",
       "      <td>0.8364</td>\n",
       "      <td>0.516941</td>\n",
       "      <td>52.67</td>\n",
       "    </tr>\n",
       "  </tbody>\n",
       "</table>\n",
       "</div>"
      ],
      "text/plain": [
       "            model    acc        f1     auc  val_loss  train_time_sec\n",
       "0     DenseNet121  0.770  0.778846  0.8315  0.533625          131.88\n",
       "1        ResNet50  0.755  0.726257  0.8419  0.638779           76.92\n",
       "2  EfficientNetB0  0.750  0.739583  0.8364  0.516941           52.67"
      ]
     },
     "execution_count": 29,
     "metadata": {},
     "output_type": "execute_result"
    }
   ],
   "source": [
    "results_df = pd.DataFrame(results)\n",
    "results_df = results_df[[\"model\", \"acc\", \"f1\", \"auc\", \"val_loss\", \"train_time_sec\"]]\n",
    "results_df\n"
   ]
  },
  {
   "cell_type": "markdown",
   "id": "c938b8c7",
   "metadata": {},
   "source": [
    "# 8. Visualize Comparison"
   ]
  },
  {
   "cell_type": "code",
   "execution_count": 32,
   "id": "fd9210a4",
   "metadata": {},
   "outputs": [
    {
     "data": {
      "image/png": "[encoded data removed]",
      "text/plain": [
       "<Figure size 800x500 with 1 Axes>"
      ]
     },
     "metadata": {},
     "output_type": "display_data"
    }
   ],
   "source": [
    "plt.figure(figsize=(8,5))\n",
    "sns.barplot(data=results_df.melt(id_vars='model', value_vars=['acc','f1','auc']),\n",
    "            x='model', y='value', hue='variable')\n",
    "plt.title(\"Model Performance Comparison\")\n",
    "plt.ylabel(\"Score\")\n",
    "plt.ylim(0,1)\n",
    "plt.legend(title='Metric')\n",
    "plt.show()\n"
   ]
  },
  {
   "cell_type": "markdown",
   "id": "fdd5b2cc",
   "metadata": {},
   "source": [
    "# 9. Save Results"
   ]
  },
  {
   "cell_type": "code",
   "execution_count": 31,
   "id": "87b780bd",
   "metadata": {},
   "outputs": [
    {
     "name": "stdout",
     "output_type": "stream",
     "text": [
      "Results saved to notebooks/model_comparison_results.csv\n"
     ]
    }
   ],
   "source": [
    "results_df.to_csv(\"../notebooks/model_comparison_results.csv\", index=False)\n",
    "print(\"Results saved to notebooks/model_comparison_results.csv\")\n"
   ]
  },
  {
   "cell_type": "markdown",
   "id": "93d8e4ec",
   "metadata": {},
   "source": [
    "### **Observations**\n",
    "\n",
    "1. **Dataset Sampling**  \n",
    "   - The models were trained and validated on a *representative subset of 100 X-ray images* (50 Normal, 50 Pneumonia) from the RSNA Pneumonia Detection dataset.  \n",
    "   - This small-scale experiment was intentionally designed to test comparative performance and computational efficiency, not to reach clinical-level accuracy.  \n",
    "   - Full dataset training would likely improve the metrics proportionally.\n",
    "\n",
    "2. **Training Time Analysis**  \n",
    "   - **EfficientNet-B0** achieved the **fastest training time (≈ 53 seconds)** for 2 epochs, showing excellent runtime efficiency and lower computational overhead.  \n",
    "   - **ResNet50** required ~77 seconds — balanced speed and interpretability.  \n",
    "   - **DenseNet121** took ~132 seconds, about 2.5× longer than EfficientNet, but yielded the most balanced accuracy and F1-score.  \n",
    "   - The difference in training duration directly reflects model complexity (parameter count and FLOPs).\n",
    "\n",
    "3. **Performance vs. Complexity**  \n",
    "   - Despite being slower, **DenseNet121** maintained the best *overall predictive balance* between precision and recall (highest F1).  \n",
    "   - **ResNet50**, while slightly less accurate, achieved the **highest AUC (0.84)**, indicating strong discrimination ability between pneumonia and normal cases.  \n",
    "   - **EfficientNet-B0**, though lighter, performed surprisingly well with the lowest validation loss — suggesting strong generalization even on a small dataset.\n",
    "\n",
    "4. **Inference Implication**  \n",
    "   - For **cloud deployment** or **real-time inference**, EfficientNet-B0 provides the best trade-off between latency and performance.  \n",
    "   - For **diagnostic or research use**, DenseNet121 remains the most reliable choice, especially when explainability (Grad-CAM) is required.\n",
    "\n",
    "### **Conclusion**\n",
    "\n",
    "DenseNet121 remains the **preferred model for MedBot’s current diagnostic workflow**, combining accuracy, robustness, and compatibility with explainability methods.  \n",
    "However, if resource constraints arise during deployment, EfficientNet-B0 offers an ideal fallback model with substantially faster inference and lower compute cost.\n"
   ]
  }
 ],
 "metadata": {
  "kernelspec": {
   "display_name": ".venv",
   "language": "python",
   "name": "python3"
  },
  "language_info": {
   "codemirror_mode": {
    "name": "ipython",
    "version": 3
   },
   "file_extension": ".py",
   "mimetype": "text/x-python",
   "name": "python",
   "nbconvert_exporter": "python",
   "pygments_lexer": "ipython3",
   "version": "3.12.10"
  }
 },
 "nbformat": 4,
 "nbformat_minor": 5
}
