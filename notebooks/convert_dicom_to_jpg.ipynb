{
 "cells": [
  {
   "cell_type": "code",
   "execution_count": 1,
   "id": "0d399b13",
   "metadata": {},
   "outputs": [],
   "source": [
    "import os\n",
    "import pydicom\n",
    "import cv2\n",
    "import pandas as pd\n",
    "from tqdm import tqdm"
   ]
  },
  {
   "cell_type": "code",
   "execution_count": 11,
   "id": "8a3b6944",
   "metadata": {},
   "outputs": [],
   "source": [
    "# Paths\n",
    "TRAIN_DIR = \"../data/rsna/stage_2_train_images\"\n",
    "LABELS_CSV = \"../data/rsna/stage_2_train_labels.csv\"\n",
    "OUTPUT_IMG_DIR = \"../data/rsna/images\"\n",
    "OUTPUT_LABELS_CSV = \"../data/rsna/labels.csv\"\n",
    "CONVERT_TEST = True"
   ]
  },
  {
   "cell_type": "code",
   "execution_count": 12,
   "id": "cb1c5b35",
   "metadata": {},
   "outputs": [],
   "source": [
    "os.makedirs(OUTPUT_IMG_DIR, exist_ok=True)"
   ]
  },
  {
   "cell_type": "code",
   "execution_count": 14,
   "id": "436b0576",
   "metadata": {},
   "outputs": [
    {
     "name": "stdout",
     "output_type": "stream",
     "text": [
      "Total images to convert: 30227\n"
     ]
    }
   ],
   "source": [
    "# Read the labels\n",
    "df = pd.read_csv(LABELS_CSV)\n",
    "\n",
    "# Keep only useful columns: patientId + Target (0 or 1)\n",
    "df = df[[\"patientId\", \"Target\"]].rename(columns={\"patientId\": \"image\", \"Target\": \"label\"})\n",
    "\n",
    "print(f\"Total images to convert: {len(df)}\")"
   ]
  },
  {
   "cell_type": "code",
   "execution_count": 15,
   "id": "298fee30",
   "metadata": {},
   "outputs": [
    {
     "name": "stderr",
     "output_type": "stream",
     "text": [
      "Converting train set: 100%|██████████| 30227/30227 [04:09<00:00, 121.28it/s]\n"
     ]
    }
   ],
   "source": [
    "for _, row in tqdm(df.iterrows(), total=len(df), desc=\"Converting train set\"):\n",
    "    dcm_path = os.path.join(TRAIN_DIR, f\"{row['image']}.dcm\")\n",
    "    jpg_path = os.path.join(OUTPUT_IMG_DIR, f\"{row['image']}.jpg\")\n",
    "\n",
    "    if not os.path.exists(dcm_path):\n",
    "        print(f\"Skipping missing file {dcm_path}\")\n",
    "        continue\n",
    "\n",
    "    try:\n",
    "        dcm = pydicom.dcmread(dcm_path)\n",
    "        img = dcm.pixel_array\n",
    "\n",
    "        # Normalize to 0–255 and save as JPEG\n",
    "        img = cv2.convertScaleAbs(img, alpha=(255.0 / img.max()))\n",
    "        cv2.imwrite(jpg_path, img)\n",
    "    except Exception as e:\n",
    "        print(f\"Error converting {row['image']}: {e}\")"
   ]
  },
  {
   "cell_type": "code",
   "execution_count": 16,
   "id": "c41a349d",
   "metadata": {},
   "outputs": [
    {
     "name": "stdout",
     "output_type": "stream",
     "text": [
      "Conversion complete → ../data/rsna/labels.csv\n"
     ]
    }
   ],
   "source": [
    "df[\"image\"] = df[\"image\"].apply(lambda x: f\"{x}.jpg\")\n",
    "df.to_csv(OUTPUT_LABELS_CSV, index=False)\n",
    "print(f\"Conversion complete → {OUTPUT_LABELS_CSV}\")"
   ]
  },
  {
   "cell_type": "code",
   "execution_count": 17,
   "id": "4290125a",
   "metadata": {},
   "outputs": [
    {
     "name": "stdout",
     "output_type": "stream",
     "text": [
      "Converting 3000 test DICOMs...\n"
     ]
    },
    {
     "name": "stderr",
     "output_type": "stream",
     "text": [
      "Converting test set: 100%|██████████| 3000/3000 [00:31<00:00, 95.80it/s] "
     ]
    },
    {
     "name": "stdout",
     "output_type": "stream",
     "text": [
      "Test images saved in ../data/rsna/images_test\n"
     ]
    },
    {
     "name": "stderr",
     "output_type": "stream",
     "text": [
      "\n"
     ]
    }
   ],
   "source": [
    "TEST_DIR = \"../data/rsna/stage_2_test_images\"\n",
    "if CONVERT_TEST:\n",
    "    TEST_OUTPUT_DIR = os.path.join(\"../data/rsna/images_test\")\n",
    "    os.makedirs(TEST_OUTPUT_DIR, exist_ok=True)\n",
    "    test_files = [f for f in os.listdir(TEST_DIR) if f.endswith(\".dcm\")]\n",
    "    print(f\"Converting {len(test_files)} test DICOMs...\")\n",
    "\n",
    "    for f in tqdm(test_files, desc=\"Converting test set\"):\n",
    "        dcm_path = os.path.join(TEST_DIR, f)\n",
    "        jpg_path = os.path.join(TEST_OUTPUT_DIR, f.replace(\".dcm\", \".jpg\"))\n",
    "        try:\n",
    "            dcm = pydicom.dcmread(dcm_path)\n",
    "            img = dcm.pixel_array\n",
    "            img = cv2.convertScaleAbs(img, alpha=(255.0 / img.max()))\n",
    "            cv2.imwrite(jpg_path, img)\n",
    "        except Exception as e:\n",
    "            print(f\"Error converting test file {f}: {e}\")\n",
    "\n",
    "    print(f\"Test images saved in {TEST_OUTPUT_DIR}\")"
   ]
  },
  {
   "cell_type": "code",
   "execution_count": null,
   "id": "4e99468a",
   "metadata": {},
   "outputs": [],
   "source": []
  }
 ],
 "metadata": {
  "kernelspec": {
   "display_name": ".venv",
   "language": "python",
   "name": "python3"
  },
  "language_info": {
   "codemirror_mode": {
    "name": "ipython",
    "version": 3
   },
   "file_extension": ".py",
   "mimetype": "text/x-python",
   "name": "python",
   "nbconvert_exporter": "python",
   "pygments_lexer": "ipython3",
   "version": "3.12.10"
  }
 },
 "nbformat": 4,
 "nbformat_minor": 5
}
